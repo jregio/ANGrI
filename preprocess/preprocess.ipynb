{
 "cells": [
  {
   "cell_type": "markdown",
   "metadata": {},
   "source": [
    "### Load data"
   ]
  },
  {
   "cell_type": "code",
   "execution_count": 1,
   "metadata": {},
   "outputs": [],
   "source": [
    "import pandas as pd\n",
    "\n",
    "df_subtitles = pd.read_csv(\"../collect/videos_with_subtitles.csv\")"
   ]
  },
  {
   "cell_type": "markdown",
   "metadata": {},
   "source": [
    "### Remove rows with errors or empty subtitles"
   ]
  },
  {
   "cell_type": "code",
   "execution_count": 2,
   "metadata": {},
   "outputs": [],
   "source": [
    "# Remove rows with empty subtitles\n",
    "df_subtitles = df_subtitles[df_subtitles['chinese_subtitles'].notna()]\n",
    "\n",
    "# Remove rows that start with \"Error\"\n",
    "df_subtitles = df_subtitles[~df_subtitles['chinese_subtitles'].str.startswith(\"Error\")]\n",
    "\n",
    "# Reset index\n",
    "df_subtitles = df_subtitles.reset_index(drop=True)"
   ]
  },
  {
   "cell_type": "markdown",
   "metadata": {},
   "source": [
    "### Split text into sentences"
   ]
  },
  {
   "cell_type": "code",
   "execution_count": 3,
   "metadata": {},
   "outputs": [],
   "source": [
    "# Split text by newline\n",
    "df_subtitles['chinese_subtitles'] = df_subtitles['chinese_subtitles'].str.split('\\n')"
   ]
  },
  {
   "cell_type": "markdown",
   "metadata": {},
   "source": [
    "### Collect all sentences into a list\n"
   ]
  },
  {
   "cell_type": "code",
   "execution_count": 4,
   "metadata": {},
   "outputs": [],
   "source": [
    "# Collect all sentences into a list\n",
    "all_sentences = []\n",
    "for sentence in df_subtitles['chinese_subtitles']:\n",
    "    all_sentences.extend(sentence)\n",
    "\n",
    "# Remove empty sentences\n",
    "all_sentences = [sentence for sentence in all_sentences if sentence]"
   ]
  },
  {
   "cell_type": "markdown",
   "metadata": {},
   "source": [
    "### Export"
   ]
  },
  {
   "cell_type": "code",
   "execution_count": 11,
   "metadata": {},
   "outputs": [],
   "source": [
    "# Export sentences to a text file, one sentence per line\n",
    "with open('sentences.txt', 'w', encoding='utf-8') as f:\n",
    "    for sentence in all_sentences:\n",
    "        f.write(sentence + '\\n')\n"
   ]
  },
  {
   "cell_type": "code",
   "execution_count": null,
   "metadata": {},
   "outputs": [],
   "source": []
  }
 ],
 "metadata": {
  "kernelspec": {
   "display_name": "usr",
   "language": "python",
   "name": "python3"
  },
  "language_info": {
   "codemirror_mode": {
    "name": "ipython",
    "version": 3
   },
   "file_extension": ".py",
   "mimetype": "text/x-python",
   "name": "python",
   "nbconvert_exporter": "python",
   "pygments_lexer": "ipython3",
   "version": "3.9.6"
  }
 },
 "nbformat": 4,
 "nbformat_minor": 2
}

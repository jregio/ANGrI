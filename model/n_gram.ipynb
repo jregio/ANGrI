{
 "cells": [
  {
   "cell_type": "markdown",
   "metadata": {},
   "source": [
    "### Load sentences"
   ]
  },
  {
   "cell_type": "code",
   "execution_count": 1,
   "metadata": {},
   "outputs": [],
   "source": [
    "with open('../preprocess/sentences.txt', 'r', encoding='utf-8') as f:\n",
    "    sentences = [line.strip() for line in f.readlines()]"
   ]
  },
  {
   "cell_type": "markdown",
   "metadata": {},
   "source": [
    "### Build n-gram model with n=1\n"
   ]
  },
  {
   "cell_type": "code",
   "execution_count": 2,
   "metadata": {},
   "outputs": [],
   "source": [
    "from n_gram_model import NgramModel\n",
    "\n",
    "unigram_model = NgramModel(n=1)\n",
    "unigram_model.train(sentences)"
   ]
  },
  {
   "cell_type": "markdown",
   "metadata": {},
   "source": [
    "### Build n-gram model with n=2"
   ]
  },
  {
   "cell_type": "code",
   "execution_count": 4,
   "metadata": {},
   "outputs": [],
   "source": [
    "bigram_model = NgramModel(n=2)\n",
    "bigram_model.train(sentences)"
   ]
  },
  {
   "cell_type": "markdown",
   "metadata": {},
   "source": [
    "### Build n-gram model with n=3"
   ]
  },
  {
   "cell_type": "code",
   "execution_count": 6,
   "metadata": {},
   "outputs": [],
   "source": [
    "trigram_model = NgramModel(n=3)\n",
    "trigram_model.train(sentences)"
   ]
  },
  {
   "cell_type": "markdown",
   "metadata": {},
   "source": [
    "### Build n-gram model with n=4"
   ]
  },
  {
   "cell_type": "code",
   "execution_count": 8,
   "metadata": {},
   "outputs": [],
   "source": [
    "fourgram_model = NgramModel(n=4)\n",
    "fourgram_model.train(sentences)"
   ]
  },
  {
   "cell_type": "markdown",
   "metadata": {},
   "source": [
    "### Export models"
   ]
  },
  {
   "cell_type": "code",
   "execution_count": 29,
   "metadata": {},
   "outputs": [],
   "source": [
    "import pickle\n",
    "\n",
    "with open('models/ngram_1.pkl', 'wb') as f:\n",
    "    pickle.dump(unigram_model, f)\n",
    "with open('models/ngram_2.pkl', 'wb') as f:\n",
    "    pickle.dump(bigram_model, f)\n",
    "with open('models/ngram_3.pkl', 'wb') as f:\n",
    "    pickle.dump(trigram_model, f)\n",
    "with open('models/ngram_4.pkl', 'wb') as f:\n",
    "    pickle.dump(fourgram_model, f)"
   ]
  },
  {
   "cell_type": "code",
   "execution_count": null,
   "metadata": {},
   "outputs": [],
   "source": []
  }
 ],
 "metadata": {
  "language_info": {
   "name": "python"
  }
 },
 "nbformat": 4,
 "nbformat_minor": 2
}
